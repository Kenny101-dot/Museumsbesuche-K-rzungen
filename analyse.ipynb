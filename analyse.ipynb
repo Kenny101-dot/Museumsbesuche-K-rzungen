{
 "cells": [
  {
   "cell_type": "code",
   "execution_count": 1,
   "id": "52cc01ec",
   "metadata": {},
   "outputs": [],
   "source": [
    "import pandas as pd \n",
    "import numpy as np "
   ]
  },
  {
   "cell_type": "code",
   "execution_count": 4,
   "id": "21958e9f",
   "metadata": {},
   "outputs": [],
   "source": [
    "df = pd.read_csv('data/kulturausgaben_und_besucherzahlen_berlin_2022_2027.csv')"
   ]
  },
  {
   "cell_type": "code",
   "execution_count": 5,
   "id": "b6ee7d0e",
   "metadata": {},
   "outputs": [
    {
     "name": "stdout",
     "output_type": "stream",
     "text": [
      "<class 'pandas.core.frame.DataFrame'>\n",
      "RangeIndex: 6 entries, 0 to 5\n",
      "Data columns (total 7 columns):\n",
      " #   Column                                  Non-Null Count  Dtype  \n",
      "---  ------                                  --------------  -----  \n",
      " 0   Jahr                                    6 non-null      int64  \n",
      " 1   Kulturausgaben (geplant) [Mio. €]       4 non-null      float64\n",
      " 2   Kulturausgaben (nach Kürzung) [Mio. €]  6 non-null      float64\n",
      " 3   Kürzung2025 [Mio. €]                    1 non-null      float64\n",
      " 4   Kürzung2026 [Mio. €]                    1 non-null      float64\n",
      " 5   Kürzung2027 [Mio. €]                    1 non-null      float64\n",
      " 6   Besucherzahlen Museen [Mio.]            3 non-null      float64\n",
      "dtypes: float64(6), int64(1)\n",
      "memory usage: 468.0 bytes\n"
     ]
    }
   ],
   "source": [
    "df.info()"
   ]
  },
  {
   "cell_type": "code",
   "execution_count": null,
   "id": "981b1a43",
   "metadata": {},
   "outputs": [],
   "source": []
  }
 ],
 "metadata": {
  "kernelspec": {
   "display_name": "venv",
   "language": "python",
   "name": "python3"
  },
  "language_info": {
   "codemirror_mode": {
    "name": "ipython",
    "version": 3
   },
   "file_extension": ".py",
   "mimetype": "text/x-python",
   "name": "python",
   "nbconvert_exporter": "python",
   "pygments_lexer": "ipython3",
   "version": "3.13.1"
  }
 },
 "nbformat": 4,
 "nbformat_minor": 5
}
